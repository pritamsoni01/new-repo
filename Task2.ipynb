{
 "cells": [
  {
   "cell_type": "code",
   "execution_count": null,
   "metadata": {},
   "outputs": [],
   "source": [
    "1. Is a list mutable?\n",
    "\n",
    "Ans: yes, lists are mutable"
   ]
  },
  {
   "cell_type": "code",
   "execution_count": 1,
   "metadata": {},
   "outputs": [
    {
     "name": "stdout",
     "output_type": "stream",
     "text": [
      "['pritam', 'soni', 5]\n"
     ]
    }
   ],
   "source": [
    "l1 = [\"pritam\", 10, 5]\n",
    "l1[1] = \"soni\"\n",
    "print(l1)"
   ]
  },
  {
   "cell_type": "code",
   "execution_count": null,
   "metadata": {},
   "outputs": [],
   "source": [
    "2. Does a list need to be homogeneous?\n",
    "\n",
    "Ans: No, list doen not need to be homogenous."
   ]
  },
  {
   "cell_type": "code",
   "execution_count": 2,
   "metadata": {},
   "outputs": [
    {
     "name": "stdout",
     "output_type": "stream",
     "text": [
      "['hello', 10, 2.4]\n"
     ]
    }
   ],
   "source": [
    "l2 = [\"hello\", 10, 2.4]\n",
    "print(l2)"
   ]
  },
  {
   "cell_type": "code",
   "execution_count": null,
   "metadata": {},
   "outputs": [],
   "source": [
    "3. What is the difference between a list and a tuple.\n",
    "\n",
    "Ans: Lists are mutable while tuples are immutable."
   ]
  },
  {
   "cell_type": "code",
   "execution_count": 3,
   "metadata": {},
   "outputs": [
    {
     "name": "stdout",
     "output_type": "stream",
     "text": [
      "['pritam', 'soni', 5]\n"
     ]
    }
   ],
   "source": [
    "l1 = [\"pritam\", 10, 5]\n",
    "l1[1] = \"soni\"\n",
    "print(l1)"
   ]
  },
  {
   "cell_type": "code",
   "execution_count": 4,
   "metadata": {},
   "outputs": [
    {
     "ename": "TypeError",
     "evalue": "'tuple' object does not support item assignment",
     "output_type": "error",
     "traceback": [
      "\u001b[1;31m---------------------------------------------------------------------------\u001b[0m",
      "\u001b[1;31mTypeError\u001b[0m                                 Traceback (most recent call last)",
      "\u001b[1;32m<ipython-input-4-dbd9766cf901>\u001b[0m in \u001b[0;36m<module>\u001b[1;34m\u001b[0m\n\u001b[0;32m      1\u001b[0m \u001b[0mt1\u001b[0m \u001b[1;33m=\u001b[0m \u001b[1;33m(\u001b[0m\u001b[1;36m12\u001b[0m\u001b[1;33m,\u001b[0m \u001b[1;36m5\u001b[0m\u001b[1;33m,\u001b[0m \u001b[1;34m\"pritam\"\u001b[0m\u001b[1;33m)\u001b[0m\u001b[1;33m\u001b[0m\u001b[1;33m\u001b[0m\u001b[0m\n\u001b[1;32m----> 2\u001b[1;33m \u001b[0mt1\u001b[0m\u001b[1;33m[\u001b[0m\u001b[1;36m0\u001b[0m\u001b[1;33m]\u001b[0m \u001b[1;33m=\u001b[0m \u001b[1;34m\"hello\"\u001b[0m\u001b[1;33m\u001b[0m\u001b[1;33m\u001b[0m\u001b[0m\n\u001b[0m\u001b[0;32m      3\u001b[0m \u001b[0mprint\u001b[0m\u001b[1;33m(\u001b[0m\u001b[0mt1\u001b[0m\u001b[1;33m)\u001b[0m\u001b[1;33m\u001b[0m\u001b[1;33m\u001b[0m\u001b[0m\n",
      "\u001b[1;31mTypeError\u001b[0m: 'tuple' object does not support item assignment"
     ]
    }
   ],
   "source": [
    "t1 = (12, 5, \"pritam\")\n",
    "t1[0] = \"hello\"\n",
    "print(t1)"
   ]
  },
  {
   "cell_type": "code",
   "execution_count": null,
   "metadata": {},
   "outputs": [],
   "source": [
    "4. How to find the number of elements in the list?\n",
    "\n",
    "Ans: By len() function."
   ]
  },
  {
   "cell_type": "code",
   "execution_count": 5,
   "metadata": {},
   "outputs": [
    {
     "data": {
      "text/plain": [
       "3"
      ]
     },
     "execution_count": 5,
     "metadata": {},
     "output_type": "execute_result"
    }
   ],
   "source": [
    "len(l1)"
   ]
  },
  {
   "cell_type": "code",
   "execution_count": null,
   "metadata": {},
   "outputs": [],
   "source": [
    "5. How to check whether the list is empty or not?"
   ]
  },
  {
   "cell_type": "code",
   "execution_count": 6,
   "metadata": {},
   "outputs": [
    {
     "name": "stdout",
     "output_type": "stream",
     "text": [
      "Above list is empty!\n"
     ]
    }
   ],
   "source": [
    "l2 = []\n",
    "if len(l2) == 0:\n",
    "    print(\"Above list is empty!\")\n",
    "else:\n",
    "    print(\"Above list is not empty!\")"
   ]
  },
  {
   "cell_type": "code",
   "execution_count": null,
   "metadata": {},
   "outputs": [],
   "source": [
    "6. How to find the first and last element of the list?"
   ]
  },
  {
   "cell_type": "code",
   "execution_count": 12,
   "metadata": {},
   "outputs": [
    {
     "name": "stdout",
     "output_type": "stream",
     "text": [
      "first element in the above list is 10\n",
      "last element in the above list is 9\n"
     ]
    }
   ],
   "source": [
    "l3 = [10, 5, 4.6, \"india\", 89, 13, 4, 1, 0, 9]\n",
    "print(f\"first element in the above list is {l3[0]}\")\n",
    "print(f\"last element in the above list is {l3[-1]}\")"
   ]
  },
  {
   "cell_type": "code",
   "execution_count": null,
   "metadata": {},
   "outputs": [],
   "source": [
    "7. How to find the largest and lowest value in the list?\n",
    "\n",
    "Ans: By min() and max() funtion."
   ]
  },
  {
   "cell_type": "code",
   "execution_count": 17,
   "metadata": {},
   "outputs": [
    {
     "name": "stdout",
     "output_type": "stream",
     "text": [
      "maximum value: 89\n",
      "minimum value: 0\n"
     ]
    }
   ],
   "source": [
    "l4 = [4,12,0,6,3,89,45]\n",
    "print(f\"maximum value: {max(l4)}\")\n",
    "print(f\"minimum value: {min(l4)}\")"
   ]
  },
  {
   "cell_type": "code",
   "execution_count": null,
   "metadata": {},
   "outputs": [],
   "source": [
    "8. How to access elements of the list?\n",
    " Ans: Elements of a list can be accessed by slicing the list with corresponding indices."
   ]
  },
  {
   "cell_type": "code",
   "execution_count": 23,
   "metadata": {},
   "outputs": [
    {
     "name": "stdout",
     "output_type": "stream",
     "text": [
      " first element: 10\n",
      " last element: 9\n",
      " first fifth elements: [10, 5, 4.6, 'india', 89]\n",
      " last fifth elements: [13, 4, 1, 0, 9]\n"
     ]
    }
   ],
   "source": [
    "print(f\" first element: {l3[0]}\")\n",
    "print(f\" last element: {l3[-1]}\")\n",
    "print(f\" first fifth elements: {l3[:5]}\")\n",
    "print(f\" last fifth elements: {l3[-5::]}\")"
   ]
  },
  {
   "cell_type": "code",
   "execution_count": null,
   "metadata": {},
   "outputs": [],
   "source": [
    "9. Remove elements in a list before a specific index."
   ]
  },
  {
   "cell_type": "code",
   "execution_count": 26,
   "metadata": {},
   "outputs": [
    {
     "name": "stdout",
     "output_type": "stream",
     "text": [
      "[10, 5, 89, 13, 4, 1, 0, 9]\n",
      "[10, 5, 89, 4, 1, 0, 9]\n"
     ]
    }
   ],
   "source": [
    "l3.remove(l3[2])\n",
    "print(l3)\n",
    "l3.pop(3)\n",
    "print(l3)"
   ]
  },
  {
   "cell_type": "code",
   "execution_count": null,
   "metadata": {},
   "outputs": [],
   "source": [
    "10. Remove elements in a list between 2 indices."
   ]
  },
  {
   "cell_type": "code",
   "execution_count": 28,
   "metadata": {},
   "outputs": [
    {
     "name": "stdout",
     "output_type": "stream",
     "text": [
      "After removing element between indices 0 and 1:  [10, 23, 2.5, 210]\n"
     ]
    }
   ],
   "source": [
    "l5 = [10, \"hello\", 23, 2.5, 210]\n",
    "del l5[1:2]\n",
    "print(\"After removing element between indices 0 and 1: \", l5)"
   ]
  },
  {
   "cell_type": "code",
   "execution_count": null,
   "metadata": {},
   "outputs": [],
   "source": [
    "11. Return every 2nd element in a list between 2 indices."
   ]
  },
  {
   "cell_type": "code",
   "execution_count": 46,
   "metadata": {},
   "outputs": [
    {
     "name": "stdout",
     "output_type": "stream",
     "text": [
      "Every 2nd element in above list: [52, 0, 9, 448, 9]\n"
     ]
    }
   ],
   "source": [
    "l6 = [10, 52,1,0,3,9,56,448,101,9]\n",
    "print(f\"Every 2nd element in above list: {l6[1:10:2]}\")"
   ]
  },
  {
   "cell_type": "code",
   "execution_count": null,
   "metadata": {},
   "outputs": [],
   "source": [
    "12. Get the first element from each nested list in a list."
   ]
  },
  {
   "cell_type": "code",
   "execution_count": 70,
   "metadata": {},
   "outputs": [
    {
     "name": "stdout",
     "output_type": "stream",
     "text": [
      "1\n",
      "4\n",
      "7\n"
     ]
    }
   ],
   "source": [
    "l7 = [[1,2,3],[4,5,6],[7,8,9]]\n",
    "for i in l7:\n",
    "    print(i[0], end=\"\\n\")"
   ]
  },
  {
   "cell_type": "code",
   "execution_count": null,
   "metadata": {},
   "outputs": [],
   "source": [
    "13. How to modify elements of the list?\n",
    "\n",
    "Ans: By using assignment operator to corresponding indices."
   ]
  },
  {
   "cell_type": "code",
   "execution_count": 74,
   "metadata": {},
   "outputs": [
    {
     "name": "stdout",
     "output_type": "stream",
     "text": [
      "['india', 15, 2.3, 5]\n"
     ]
    }
   ],
   "source": [
    "l8 = [\"pritam\", 15, 2.3, 5]\n",
    "l8[0]=\"india\"\n",
    "print(l8)"
   ]
  },
  {
   "cell_type": "code",
   "execution_count": null,
   "metadata": {},
   "outputs": [],
   "source": [
    "14. How to concatenate two lists?\n",
    "\n",
    "Ans: By '+' operator"
   ]
  },
  {
   "cell_type": "code",
   "execution_count": 75,
   "metadata": {},
   "outputs": [
    {
     "name": "stdout",
     "output_type": "stream",
     "text": [
      "After concatenate l9 and l10: [1, 2, 3, 8, 9, 10]\n"
     ]
    }
   ],
   "source": [
    "l9 = [1,2,3]\n",
    "l10 = [8,9,10]\n",
    "print(f\"After concatenate l9 and l10: {l9+l10}\")"
   ]
  },
  {
   "cell_type": "code",
   "execution_count": null,
   "metadata": {},
   "outputs": [],
   "source": [
    "15. How to add two lists element-wise in python?\n",
    "\n",
    "Ans: By mapping."
   ]
  },
  {
   "cell_type": "code",
   "execution_count": 81,
   "metadata": {},
   "outputs": [
    {
     "name": "stdout",
     "output_type": "stream",
     "text": [
      "After adding lists l9 and l10 element wise:  [9, 11, 13]\n"
     ]
    }
   ],
   "source": [
    "from operator import add\n",
    "add_list = list(map(add, l9, l10))\n",
    "print(\"After adding lists l9 and l10 element wise: \", add_list)"
   ]
  },
  {
   "cell_type": "code",
   "execution_count": null,
   "metadata": {},
   "outputs": [],
   "source": [
    "16. Difference between del and clear?\n",
    "\n",
    "Ans: The del keyword is used to delete objects. In Python everything is an object, so \n",
    "    the del keyword can also be used to delete variables, lists, or parts of a list etc.\n",
    "    The clear is used to clear the entire list."
   ]
  },
  {
   "cell_type": "code",
   "execution_count": null,
   "metadata": {},
   "outputs": [],
   "source": [
    "17. Difference between remove and pop?\n",
    "\n",
    "Ans: Remove is used to remove a specific item from the list \n",
    "    whereas pop delete the item from a particular index."
   ]
  },
  {
   "cell_type": "code",
   "execution_count": null,
   "metadata": {},
   "outputs": [],
   "source": [
    "18. Difference between append and extend?\n",
    "\n",
    "Ans: Append is used to add a single element in the list to the last position while\n",
    "     extend is used to add a series of elements in the list by assigning them in a single line."
   ]
  },
  {
   "cell_type": "code",
   "execution_count": null,
   "metadata": {},
   "outputs": [],
   "source": [
    "19. Difference between indexing and Slicing?\n",
    "\n",
    "Ans: Indexing is used to access a single element from the list while slicing is used to access series of elements\n",
    "     or we can say range of elements from the given list."
   ]
  },
  {
   "cell_type": "code",
   "execution_count": null,
   "metadata": {},
   "outputs": [],
   "source": [
    "20. Difference between sort and sorted?\n",
    "\n",
    "Ans: sort function will modify the list it is called on whereas the sorted function will create\n",
    "     a new list containing a sorted version of the given list."
   ]
  },
  {
   "cell_type": "code",
   "execution_count": null,
   "metadata": {},
   "outputs": [],
   "source": [
    "21. Difference between reverse and reversed?\n",
    "\n",
    "Ans: Reverse function returns the reverse version of a list while reversed function not actually\n",
    "     reverse the list, it returns an object that can be used to iterate over the container's elements in reverse order."
   ]
  },
  {
   "cell_type": "code",
   "execution_count": null,
   "metadata": {},
   "outputs": [],
   "source": [
    "22. Difference between copy and deepcopy?\n",
    "\n",
    "Ans: A shallow copy constructs a new compound object and then inserts references into it to the objects found in the original.\n",
    "     A deep copy constructs a new compound object and then \n",
    "     recursively, inserts copies into it of the objects found in the original."
   ]
  },
  {
   "cell_type": "code",
   "execution_count": null,
   "metadata": {},
   "outputs": [],
   "source": [
    "23. How to remove duplicate elements in the list?\n",
    "\n",
    "Ans: By using set function."
   ]
  },
  {
   "cell_type": "code",
   "execution_count": 89,
   "metadata": {},
   "outputs": [
    {
     "data": {
      "text/plain": [
       "[1, 2, 3, 4, 5]"
      ]
     },
     "execution_count": 89,
     "metadata": {},
     "output_type": "execute_result"
    }
   ],
   "source": [
    "l11 = [1,2,4,1,5,4,2,3,4,2,1,5,4,2,5]\n",
    "list(set(l11))"
   ]
  },
  {
   "cell_type": "code",
   "execution_count": null,
   "metadata": {},
   "outputs": [],
   "source": [
    "24. How to find an index of an element in the python list?\n",
    "\n",
    "Ans: By using index function."
   ]
  },
  {
   "cell_type": "code",
   "execution_count": 90,
   "metadata": {},
   "outputs": [
    {
     "data": {
      "text/plain": [
       "7"
      ]
     },
     "execution_count": 90,
     "metadata": {},
     "output_type": "execute_result"
    }
   ],
   "source": [
    "l11.index(3)"
   ]
  },
  {
   "cell_type": "code",
   "execution_count": null,
   "metadata": {},
   "outputs": [],
   "source": [
    "25. How to find the occurrences of an element in the python list?\n",
    "\n",
    "Ans: By count() function."
   ]
  },
  {
   "cell_type": "code",
   "execution_count": 91,
   "metadata": {},
   "outputs": [
    {
     "data": {
      "text/plain": [
       "3"
      ]
     },
     "execution_count": 91,
     "metadata": {},
     "output_type": "execute_result"
    }
   ],
   "source": [
    "l11.count(1)"
   ]
  },
  {
   "cell_type": "code",
   "execution_count": null,
   "metadata": {},
   "outputs": [],
   "source": [
    "26. How to insert an item at a given position?\n",
    "\n",
    "Ans: By insert() function."
   ]
  },
  {
   "cell_type": "code",
   "execution_count": 95,
   "metadata": {},
   "outputs": [
    {
     "name": "stdout",
     "output_type": "stream",
     "text": [
      "[1, 2, 3, 4, 5]\n"
     ]
    }
   ],
   "source": [
    "l12 = [1,2,4,5]\n",
    "l12.insert(2,3)\n",
    "print(l12)"
   ]
  },
  {
   "cell_type": "code",
   "execution_count": null,
   "metadata": {},
   "outputs": [],
   "source": [
    "27. How to check if an item is in the list?\n",
    "\n",
    "Ans: By simple in and not operators."
   ]
  },
  {
   "cell_type": "code",
   "execution_count": 96,
   "metadata": {},
   "outputs": [
    {
     "name": "stdout",
     "output_type": "stream",
     "text": [
      "2 is in list.\n"
     ]
    }
   ],
   "source": [
    "if 2 in l12:\n",
    "    print(\"2 is in list.\")\n",
    "if 2 not in l12:\n",
    "    print(\"2 is not in list.\")"
   ]
  },
  {
   "cell_type": "code",
   "execution_count": null,
   "metadata": {},
   "outputs": [],
   "source": [
    "28. How to flatten a list in python?\n",
    "\n",
    "Ans: By using nested loops, we can flatten a nested list."
   ]
  },
  {
   "cell_type": "code",
   "execution_count": 99,
   "metadata": {},
   "outputs": [
    {
     "name": "stdout",
     "output_type": "stream",
     "text": [
      "1 2 3 4 5 6 7 8 9 "
     ]
    }
   ],
   "source": [
    "a = [[1,2,3],[4,5,6],[7,8,9]]\n",
    "for i in a:\n",
    "    for item in i:\n",
    "        print(item, end=\" \")"
   ]
  },
  {
   "cell_type": "code",
   "execution_count": null,
   "metadata": {},
   "outputs": [],
   "source": [
    "29. How to convert python list to other data structures like set, tuple, dictionary?\n",
    "\n",
    "Ans: By the concept of typecasting."
   ]
  },
  {
   "cell_type": "code",
   "execution_count": 104,
   "metadata": {},
   "outputs": [
    {
     "name": "stdout",
     "output_type": "stream",
     "text": [
      "<class 'list'>\n"
     ]
    },
    {
     "data": {
      "text/plain": [
       "tuple"
      ]
     },
     "execution_count": 104,
     "metadata": {},
     "output_type": "execute_result"
    }
   ],
   "source": [
    "b = [1,2,3,4,5]\n",
    "print(type(b))\n",
    "type(set(b))\n",
    "type(tuple(b))"
   ]
  },
  {
   "cell_type": "code",
   "execution_count": null,
   "metadata": {},
   "outputs": [],
   "source": [
    "30. How to apply a function to all items in the list?"
   ]
  },
  {
   "cell_type": "code",
   "execution_count": 110,
   "metadata": {},
   "outputs": [
    {
     "name": "stdout",
     "output_type": "stream",
     "text": [
      "[2, 4, 6]\n"
     ]
    }
   ],
   "source": [
    "def double(integer):\n",
    "    return integer*2\n",
    "integer_list = [1, 2, 3]\n",
    "\n",
    "output_list = list(map(double, integer_list))\n",
    "  \n",
    "print(output_list)"
   ]
  },
  {
   "cell_type": "code",
   "execution_count": null,
   "metadata": {},
   "outputs": [],
   "source": [
    "31. How to filter the elements based on a function in a python list?"
   ]
  },
  {
   "cell_type": "code",
   "execution_count": 114,
   "metadata": {},
   "outputs": [
    {
     "name": "stdout",
     "output_type": "stream",
     "text": [
      "Fitered list:  [7, 8, 9]\n"
     ]
    }
   ],
   "source": [
    "d = [1,2,3,4,5,6,7,8,9]\n",
    "d_filtered = filter(lambda item: item>6, d)\n",
    "print(\"Fitered list: \", list(d_filtered))"
   ]
  },
  {
   "cell_type": "code",
   "execution_count": null,
   "metadata": {},
   "outputs": [],
   "source": [
    "32. How python lists are stored in memory?\n",
    "\n",
    "Ans: lists are stored in distinct chunks of memory which are linked together with \n",
    "     pointers, which enables efficient use of memory generally and \n",
    "     doesnt require resizing."
   ]
  }
 ],
 "metadata": {
  "kernelspec": {
   "display_name": "Python 3",
   "language": "python",
   "name": "python3"
  },
  "language_info": {
   "codemirror_mode": {
    "name": "ipython",
    "version": 3
   },
   "file_extension": ".py",
   "mimetype": "text/x-python",
   "name": "python",
   "nbconvert_exporter": "python",
   "pygments_lexer": "ipython3",
   "version": "3.8.3"
  }
 },
 "nbformat": 4,
 "nbformat_minor": 4
}
