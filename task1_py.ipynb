{
  "nbformat": 4,
  "nbformat_minor": 0,
  "metadata": {
    "colab": {
      "name": "task1.py",
      "provenance": [],
      "collapsed_sections": [],
      "authorship_tag": "ABX9TyOAECiHN/mm56B+IAge2x38",
      "include_colab_link": true
    },
    "kernelspec": {
      "name": "python3",
      "display_name": "Python 3"
    },
    "language_info": {
      "name": "python"
    }
  },
  "cells": [
    {
      "cell_type": "markdown",
      "metadata": {
        "id": "view-in-github",
        "colab_type": "text"
      },
      "source": [
        "<a href=\"https://colab.research.google.com/github/pritamsoni01/new-repo/blob/main/task1_py.ipynb\" target=\"_parent\"><img src=\"https://colab.research.google.com/assets/colab-badge.svg\" alt=\"Open In Colab\"/></a>"
      ]
    },
    {
      "cell_type": "markdown",
      "metadata": {
        "id": "1YGfHREXH5z9"
      },
      "source": [
        ""
      ]
    },
    {
      "cell_type": "code",
      "metadata": {
        "id": "DaCvEbjqH6MD"
      },
      "source": [
        "1. We are having 3 list like this\n",
        "\n",
        "Colors = [“Yellow”,”Green”,”White”,”Black”]\n",
        "\n",
        "Fruits=[“Apple”,”Papaya”,”Mango”,”Orange”]\n",
        "\n",
        "Animals=[“Tiger”,”Lion”,”Deer”,”Zebra”]"
      ],
      "execution_count": null,
      "outputs": []
    },
    {
      "cell_type": "code",
      "metadata": {
        "id": "e3Y5tlglH71t"
      },
      "source": [
        "i. Write a program that asks user to enter a Color/Fruit/Animal name and it should tell which category belongs to , like its is a fruit or color or Animal"
      ],
      "execution_count": 1,
      "outputs": []
    },
    {
      "cell_type": "code",
      "metadata": {
        "colab": {
          "base_uri": "https://localhost:8080/"
        },
        "id": "Zp-IfZUUOmke",
        "outputId": "8adb825f-d5c4-40b6-f855-c9e4b4c7ef4f"
      },
      "source": [
        "Colors = ['Yellow','Green','White','Black']\n",
        "\n",
        "Fruits=['Apple','Papaya','Mango','Orange']\n",
        "\n",
        "Animals=['Tiger','Lion','Deer','Zebra']\n",
        "\n",
        "name = input(\"Enter input: \")\n",
        "if name in Colors:\n",
        "  print(\"This is a color!\")\n",
        "elif name in Fruits:\n",
        "  print(\"This is a fruit!\")\n",
        "elif name in Animals:\n",
        "  print(\"This is an animal!\")\n",
        "else:\n",
        "  print(\"Wrong input!\")"
      ],
      "execution_count": 3,
      "outputs": [
        {
          "output_type": "stream",
          "text": [
            "Enter input: Green\n",
            "This is a color!\n"
          ],
          "name": "stdout"
        }
      ]
    },
    {
      "cell_type": "code",
      "metadata": {
        "id": "M3jr-HYpPm2q"
      },
      "source": [
        "ii. Write a program that asks user to enter two cities and it tells you if they both are in same country or not. \n",
        "For example if I enter yellow and Black, it will print \"Both are colors\" but \n",
        "if I enter yellow and Tiger it should print \"They don't belong to same category\""
      ],
      "execution_count": null,
      "outputs": []
    },
    {
      "cell_type": "code",
      "metadata": {
        "colab": {
          "base_uri": "https://localhost:8080/"
        },
        "id": "AZBD4rugPrkN",
        "outputId": "05cf83f8-9759-4928-894b-ab5ea4d7bc13"
      },
      "source": [
        "city1 = input(\"Enter city1: \")\n",
        "city2 = input(\"Enter city2: \")\n",
        "city = [city1, city2]\n",
        "if city1 and city2 in city:\n",
        "  print(\"Both cities are in same country!\")\n",
        "else:\n",
        "  print(\"They are not  in same country!\")"
      ],
      "execution_count": 6,
      "outputs": [
        {
          "output_type": "stream",
          "text": [
            "Enter city1: jaipur\n",
            "Enter city2: delhi\n",
            "Both cities are in same country!\n"
          ],
          "name": "stdout"
        }
      ]
    },
    {
      "cell_type": "code",
      "metadata": {
        "id": "W9qFo1BtRlUs"
      },
      "source": [
        "2.  Write a python program that can tell you if your grade score good or not . Good Score range is 40 to 60.\n",
        "\n",
        "  i. Ask user to enter his score.\n",
        "\n",
        "  ii. If it is below 40 to 60 range then print that score is low\n",
        "\n",
        "  iii. If it is above 60 then print that it is good otherwise print that it is normal"
      ],
      "execution_count": null,
      "outputs": []
    },
    {
      "cell_type": "code",
      "metadata": {
        "colab": {
          "base_uri": "https://localhost:8080/"
        },
        "id": "tusnPLA8RxDw",
        "outputId": "5322de34-7080-4bda-db30-4c1afb54c9f0"
      },
      "source": [
        "score = int(input(\"Enter the score: \"))\n",
        "if score<40:\n",
        "  print(\"Score is low!\")\n",
        "elif score>40 and score<60:\n",
        "  print(\"Score is normal!\")\n",
        "else:\n",
        "  print(\"Score is good!\")"
      ],
      "execution_count": 8,
      "outputs": [
        {
          "output_type": "stream",
          "text": [
            "Enter the score: 55\n",
            "Score is normal!\n"
          ],
          "name": "stdout"
        }
      ]
    },
    {
      "cell_type": "code",
      "metadata": {
        "id": "2Fthr4ZhSrGN"
      },
      "source": [
        "3.  After appearing in exam 10 times you got this result,\n",
        "\n",
        "result = [\"Pass\",\"Fail\",\"Fail\",\"Pass\",\"Fail\",\"Pass\",\"Pass\",\"Fail\",\"Fail\",\"Fail\"]\n",
        "\n",
        "Using for loop figure out how many times you got Pass"
      ],
      "execution_count": null,
      "outputs": []
    },
    {
      "cell_type": "code",
      "metadata": {
        "colab": {
          "base_uri": "https://localhost:8080/"
        },
        "id": "GzyrxbC2Ssu5",
        "outputId": "02fa3b6a-873a-4810-d321-a53887df75a9"
      },
      "source": [
        "result = [\"Pass\",\"Fail\",\"Fail\",\"Pass\",\"Fail\",\"Pass\",\"Pass\",\"Fail\",\"Fail\",\"Fail\"]\n",
        "count = 0\n",
        "for i in result:\n",
        "  if i == \"Pass\":\n",
        "    count += 1\n",
        "print(count)"
      ],
      "execution_count": 23,
      "outputs": [
        {
          "output_type": "stream",
          "text": [
            "4\n"
          ],
          "name": "stdout"
        }
      ]
    },
    {
      "cell_type": "code",
      "metadata": {
        "id": "3EpwDZBWVVxq"
      },
      "source": [
        "4.  Write a program that prints following shape\n",
        "\n",
        "*\n",
        "\n",
        "* *\n",
        "\n",
        "* * *\n",
        "\n",
        "* * * *\n",
        "\n",
        "* * * * *\n",
        "\n",
        "* * * *\n",
        "\n",
        "* * *\n",
        "\n",
        "* *\n",
        "\n",
        "*"
      ],
      "execution_count": null,
      "outputs": []
    },
    {
      "cell_type": "code",
      "metadata": {
        "colab": {
          "base_uri": "https://localhost:8080/"
        },
        "id": "yQg5BuNoVdTQ",
        "outputId": "dfed10fa-0429-42ea-9e17-3bcece38faec"
      },
      "source": [
        "for i in range(0,5):\n",
        "  for j in range(0,5):\n",
        "    if j<=i:\n",
        "      print(\"*\", end=\"\")\n",
        "    else:\n",
        "      print(\" \", end=\"\")\n",
        "  print(\"\")\n",
        "for i in range(0,4):\n",
        "  for j in range(0,4):\n",
        "    if j<(4-i):\n",
        "      print(\"*\", end=\"\")\n",
        "    else:\n",
        "      print(\" \", end=\"\")\n",
        "  print(\"\")"
      ],
      "execution_count": 24,
      "outputs": [
        {
          "output_type": "stream",
          "text": [
            "*    \n",
            "**   \n",
            "***  \n",
            "**** \n",
            "*****\n",
            "****\n",
            "*** \n",
            "**  \n",
            "*   \n"
          ],
          "name": "stdout"
        }
      ]
    },
    {
      "cell_type": "code",
      "metadata": {
        "id": "e4swIig0WKdB"
      },
      "source": [
        "5.   Lets say you are running a 50 km race. Write a program that,\n",
        "\n",
        "Upon completing each 10 km asks you \"are you tired?\"\n",
        "If you reply \"yes\" then it should break and print \"you didn't finish the race\"\n",
        " If you reply \"no\" then it should continue and ask \"are you tired\" on every km\n",
        "If you finish all 50 km then it should print congratulations message"
      ],
      "execution_count": null,
      "outputs": []
    },
    {
      "cell_type": "code",
      "metadata": {
        "colab": {
          "base_uri": "https://localhost:8080/"
        },
        "id": "M43ducIUWOTS",
        "outputId": "25460933-7dfc-4d7a-98e8-ee5d80b49b7e"
      },
      "source": [
        "con = True\n",
        "for _ in range(0,50,10):\n",
        "  p = input(\"Are you tired? \\n\")\n",
        "  \n",
        "  if p=='no':\n",
        "    continue\n",
        "  else:\n",
        "    con=False\n",
        "    break\n",
        "if con:\n",
        "  print(\"Congratulations!\")"
      ],
      "execution_count": 28,
      "outputs": [
        {
          "output_type": "stream",
          "text": [
            "Are you tired? \n",
            "no\n",
            "Are you tired? \n",
            "no\n",
            "Are you tired? \n",
            "no\n",
            "Are you tired? \n",
            "no\n",
            "Are you tired? \n",
            "no\n",
            "Congratulations!\n"
          ],
          "name": "stdout"
        }
      ]
    },
    {
      "cell_type": "code",
      "metadata": {
        "id": "PvIxP3nXXt-w"
      },
      "source": [
        "6.  Write a Python program to find those numbers which are divisible by 7 and multiple of 5, between 1500 and 2700 (both included)."
      ],
      "execution_count": null,
      "outputs": []
    },
    {
      "cell_type": "code",
      "metadata": {
        "colab": {
          "base_uri": "https://localhost:8080/"
        },
        "id": "s0Rc7qheX0bB",
        "outputId": "20e6b247-a97f-4f5a-f633-c298f902c6d5"
      },
      "source": [
        "for i in range(1500, 2701):\n",
        "  if i%7==0 and i%5==0:\n",
        "    print(i) "
      ],
      "execution_count": 29,
      "outputs": [
        {
          "output_type": "stream",
          "text": [
            "1505\n",
            "1540\n",
            "1575\n",
            "1610\n",
            "1645\n",
            "1680\n",
            "1715\n",
            "1750\n",
            "1785\n",
            "1820\n",
            "1855\n",
            "1890\n",
            "1925\n",
            "1960\n",
            "1995\n",
            "2030\n",
            "2065\n",
            "2100\n",
            "2135\n",
            "2170\n",
            "2205\n",
            "2240\n",
            "2275\n",
            "2310\n",
            "2345\n",
            "2380\n",
            "2415\n",
            "2450\n",
            "2485\n",
            "2520\n",
            "2555\n",
            "2590\n",
            "2625\n",
            "2660\n",
            "2695\n"
          ],
          "name": "stdout"
        }
      ]
    },
    {
      "cell_type": "code",
      "metadata": {
        "id": "xaph9NHrYTyF"
      },
      "source": [
        "7.   Print square of all numbers between 10 to 20 except even numbers"
      ],
      "execution_count": null,
      "outputs": []
    },
    {
      "cell_type": "code",
      "metadata": {
        "colab": {
          "base_uri": "https://localhost:8080/"
        },
        "id": "XESOERtiYYLF",
        "outputId": "46df6203-f111-4981-b582-89e8fb6c93a3"
      },
      "source": [
        "for i in range(10, 21):\n",
        "  if i%2!=0:\n",
        "    print(i*i)"
      ],
      "execution_count": 31,
      "outputs": [
        {
          "output_type": "stream",
          "text": [
            "121\n",
            "169\n",
            "225\n",
            "289\n",
            "361\n"
          ],
          "name": "stdout"
        }
      ]
    },
    {
      "cell_type": "code",
      "metadata": {
        "id": "pf2htOFVY1-j"
      },
      "source": [
        "8.  Your Marks for five Test(test1 to test5) looks like this,\n",
        "\n",
        "marks_list = [65, 75, 2100, 95, 83]\n",
        "\n",
        "Write a program that asks you to enter marks and program should tell you in which test that marks occurred. \n",
        "If marks is not found then it should print that as well."
      ],
      "execution_count": null,
      "outputs": []
    },
    {
      "cell_type": "code",
      "metadata": {
        "colab": {
          "base_uri": "https://localhost:8080/"
        },
        "id": "l1rLI430Y8qq",
        "outputId": "9a3fbdab-e7d8-46d2-abcc-ab5c003872e2"
      },
      "source": [
        "marks_list = [65, 75, 2100, 95, 83]\n",
        "marks = int(input(\"Enter the marks: \"))\n",
        "if marks == marks_list[0]:\n",
        "  print(\"Marks of test1!\")\n",
        "elif marks == marks_list[1]:\n",
        "  print(\"Marks of test2!\")\n",
        "elif marks == marks_list[2]:\n",
        "  print(\"Marks of test3!\")\n",
        "elif marks == marks_list[3]:\n",
        "  print(\"Marks of test4!\")\n",
        "elif marks == marks_list[4]:\n",
        "  print(\"Marks of test5!\")\n",
        "else:\n",
        "  print(\"Marks not found!\")"
      ],
      "execution_count": 32,
      "outputs": [
        {
          "output_type": "stream",
          "text": [
            "Enter the marks: 75\n",
            "Marks of test2!\n"
          ],
          "name": "stdout"
        }
      ]
    }
  ]
}